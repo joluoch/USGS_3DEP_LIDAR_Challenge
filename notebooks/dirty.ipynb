{
 "cells": [
  {
   "cell_type": "code",
   "execution_count": 1,
   "id": "467c2c45-4289-465b-98c0-9f114bbedd5c",
   "metadata": {},
   "outputs": [],
   "source": [
    "import warnings\n",
    "warnings.filterwarnings('ignore')\n",
    "# import geoplot as gplt\n",
    "\n",
    "import geopandas as gpd\n",
    "# import geoplot.crs as gcrs\n",
    "import imageio\n",
    "import pandas as pd\n",
    "import pathlib\n",
    "import matplotlib.pyplot as plt\n",
    "import plotly.offline as go_offline\n",
    "import plotly.graph_objects as go\n",
    "from shapely.geometry import Point\n",
    "import mapclassify as mc\n",
    "import numpy as np\n",
    "import laspy\n",
    "import rasterio\n",
    "from rasterio import mask\n",
    "import folium"
   ]
  },
  {
   "cell_type": "code",
   "execution_count": 2,
   "id": "08dc62f3-7a83-45ba-b381-3dd978514b98",
   "metadata": {},
   "outputs": [],
   "source": [
    "import numpy as np\n",
    "import plotly.offline as go_offline\n",
    "import plotly.graph_objects as go"
   ]
  },
  {
   "cell_type": "code",
   "execution_count": 3,
   "id": "bb03555e-e78e-48a4-be41-a0641f3e94be",
   "metadata": {},
   "outputs": [
    {
     "data": {
      "text/html": [
       "<div>\n",
       "<style scoped>\n",
       "    .dataframe tbody tr th:only-of-type {\n",
       "        vertical-align: middle;\n",
       "    }\n",
       "\n",
       "    .dataframe tbody tr th {\n",
       "        vertical-align: top;\n",
       "    }\n",
       "\n",
       "    .dataframe thead th {\n",
       "        text-align: right;\n",
       "    }\n",
       "</style>\n",
       "<table border=\"1\" class=\"dataframe\">\n",
       "  <thead>\n",
       "    <tr style=\"text-align: right;\">\n",
       "      <th></th>\n",
       "      <th>Classification</th>\n",
       "      <th>EdgeOfFlightLine</th>\n",
       "      <th>GpsTime</th>\n",
       "      <th>Intensity</th>\n",
       "      <th>NumberOfReturns</th>\n",
       "      <th>OriginId</th>\n",
       "      <th>PointSourceId</th>\n",
       "      <th>ReturnNumber</th>\n",
       "      <th>ScanAngleRank</th>\n",
       "      <th>ScanDirectionFlag</th>\n",
       "      <th>UserData</th>\n",
       "      <th>X</th>\n",
       "      <th>Y</th>\n",
       "      <th>Z</th>\n",
       "    </tr>\n",
       "  </thead>\n",
       "  <tbody>\n",
       "    <tr>\n",
       "      <th>0</th>\n",
       "      <td>2.0</td>\n",
       "      <td>0.0</td>\n",
       "      <td>55112.731</td>\n",
       "      <td>68.0</td>\n",
       "      <td>1.0</td>\n",
       "      <td>17583.0</td>\n",
       "      <td>79.0</td>\n",
       "      <td>1.0</td>\n",
       "      <td>0.0</td>\n",
       "      <td>1.0</td>\n",
       "      <td>70.0</td>\n",
       "      <td>-10423180.01</td>\n",
       "      <td>5165777.62</td>\n",
       "      <td>272.70</td>\n",
       "    </tr>\n",
       "    <tr>\n",
       "      <th>1</th>\n",
       "      <td>2.0</td>\n",
       "      <td>0.0</td>\n",
       "      <td>55112.731</td>\n",
       "      <td>42.0</td>\n",
       "      <td>2.0</td>\n",
       "      <td>17583.0</td>\n",
       "      <td>79.0</td>\n",
       "      <td>2.0</td>\n",
       "      <td>1.0</td>\n",
       "      <td>1.0</td>\n",
       "      <td>70.0</td>\n",
       "      <td>-10423175.18</td>\n",
       "      <td>5165778.53</td>\n",
       "      <td>272.80</td>\n",
       "    </tr>\n",
       "    <tr>\n",
       "      <th>2</th>\n",
       "      <td>2.0</td>\n",
       "      <td>0.0</td>\n",
       "      <td>55112.731</td>\n",
       "      <td>58.0</td>\n",
       "      <td>2.0</td>\n",
       "      <td>17583.0</td>\n",
       "      <td>79.0</td>\n",
       "      <td>2.0</td>\n",
       "      <td>1.0</td>\n",
       "      <td>1.0</td>\n",
       "      <td>70.0</td>\n",
       "      <td>-10423172.82</td>\n",
       "      <td>5165779.01</td>\n",
       "      <td>273.10</td>\n",
       "    </tr>\n",
       "    <tr>\n",
       "      <th>3</th>\n",
       "      <td>2.0</td>\n",
       "      <td>0.0</td>\n",
       "      <td>55112.744</td>\n",
       "      <td>48.0</td>\n",
       "      <td>2.0</td>\n",
       "      <td>17583.0</td>\n",
       "      <td>79.0</td>\n",
       "      <td>2.0</td>\n",
       "      <td>0.0</td>\n",
       "      <td>0.0</td>\n",
       "      <td>70.0</td>\n",
       "      <td>-10423177.63</td>\n",
       "      <td>5165779.27</td>\n",
       "      <td>272.70</td>\n",
       "    </tr>\n",
       "    <tr>\n",
       "      <th>4</th>\n",
       "      <td>2.0</td>\n",
       "      <td>0.0</td>\n",
       "      <td>55112.744</td>\n",
       "      <td>71.0</td>\n",
       "      <td>2.0</td>\n",
       "      <td>17583.0</td>\n",
       "      <td>79.0</td>\n",
       "      <td>2.0</td>\n",
       "      <td>0.0</td>\n",
       "      <td>0.0</td>\n",
       "      <td>70.0</td>\n",
       "      <td>-10423180.02</td>\n",
       "      <td>5165778.81</td>\n",
       "      <td>272.54</td>\n",
       "    </tr>\n",
       "  </tbody>\n",
       "</table>\n",
       "</div>"
      ],
      "text/plain": [
       "   Classification  EdgeOfFlightLine    GpsTime  Intensity  NumberOfReturns  \\\n",
       "0             2.0               0.0  55112.731       68.0              1.0   \n",
       "1             2.0               0.0  55112.731       42.0              2.0   \n",
       "2             2.0               0.0  55112.731       58.0              2.0   \n",
       "3             2.0               0.0  55112.744       48.0              2.0   \n",
       "4             2.0               0.0  55112.744       71.0              2.0   \n",
       "\n",
       "   OriginId  PointSourceId  ReturnNumber  ScanAngleRank  ScanDirectionFlag  \\\n",
       "0   17583.0           79.0           1.0            0.0                1.0   \n",
       "1   17583.0           79.0           2.0            1.0                1.0   \n",
       "2   17583.0           79.0           2.0            1.0                1.0   \n",
       "3   17583.0           79.0           2.0            0.0                0.0   \n",
       "4   17583.0           79.0           2.0            0.0                0.0   \n",
       "\n",
       "   UserData            X           Y       Z  \n",
       "0      70.0 -10423180.01  5165777.62  272.70  \n",
       "1      70.0 -10423175.18  5165778.53  272.80  \n",
       "2      70.0 -10423172.82  5165779.01  273.10  \n",
       "3      70.0 -10423177.63  5165779.27  272.70  \n",
       "4      70.0 -10423180.02  5165778.81  272.54  "
      ]
     },
     "execution_count": 3,
     "metadata": {},
     "output_type": "execute_result"
    }
   ],
   "source": [
    "pan = pd.read_csv('../csv/IA_FullState.csv')\n",
    "pan.head()"
   ]
  },
  {
   "cell_type": "code",
   "execution_count": 4,
   "id": "c458f49d-a1e4-48c3-8471-ce1f7e2e1590",
   "metadata": {},
   "outputs": [],
   "source": [
    "# get shp from tif\n",
    "from glob import glob\n",
    "def get_shp_from_tif(tif_path:str, shp_file_path:str) -> None:\n",
    "    raster = rasterio.open(tif_path)\n",
    "    bounds = raster.bounds\n",
    "\n",
    "    df = gpd.GeoDataFrame({\"id\":1,\"geometry\":[box(*bounds)]})\n",
    "   \n",
    "    # save to file\n",
    "    df.to_file(shp_file_path)\n",
    "    print('Saved..')"
   ]
  },
  {
   "cell_type": "code",
   "execution_count": 5,
   "id": "58d695b7-2b3d-423f-98b6-37e16cda4b0f",
   "metadata": {},
   "outputs": [],
   "source": [
    "# get shp from tif\n",
    "from glob import glob\n",
    "def get_shp_from_tif(tif_path:str, shp_file_path:str) -> None:\n",
    "    raster = rasterio.open(tif_path)\n",
    "    bounds = raster.bounds\n",
    "    counter=0\n",
    "    \n",
    "        \n",
    "    df = gpd.GeoDataFrame({\"geometry\":[box(*bounds)]})\n",
    "   \n",
    "    # save to file\n",
    "#     df.to_file(shp_file_path)\n",
    "    print(df)\n",
    "    print('Saved..')"
   ]
  },
  {
   "cell_type": "code",
   "execution_count": 5,
   "id": "06046425-4f7a-47cc-b1d3-bf03f893864a",
   "metadata": {},
   "outputs": [
    {
     "name": "stdout",
     "output_type": "stream",
     "text": [
      "Saved..\n"
     ]
    }
   ],
   "source": [
    "\n",
    "from shapely.geometry import box\n",
    "get_shp_from_tif('../tif/TWI.tif', shp_file_path='../shp/IA_FullState.shp')\n",
    "\n",
    "#3DEP/USGS_3DEP_LIDAR_Challenge/tif/USGS_LPC_CO_SoPlatteRiver_Lot5_2013_LAS_2015.tif"
   ]
  },
  {
   "cell_type": "code",
   "execution_count": 50,
   "id": "6065990c-82d1-46b4-beb0-454d87dc03c8",
   "metadata": {},
   "outputs": [],
   "source": [
    "import rasterio\n",
    "from rasterio.features import shapes\n",
    "mask = None\n",
    "with rasterio.Env():\n",
    "    with rasterio.open('../tif/iowa.tif') as src:\n",
    "        image = src.read(1) # first band\n",
    "        results = (\n",
    "        {'properties': {'raster_val': v}, 'geometry': s}\n",
    "        for i, (s, v) \n",
    "        in enumerate(\n",
    "            shapes(image, mask=mask, transform=src.transform)))"
   ]
  },
  {
   "cell_type": "code",
   "execution_count": 51,
   "id": "49bb691f-0000-4f36-bf0c-7a02caaf3f83",
   "metadata": {},
   "outputs": [
    {
     "ename": "ValueError",
     "evalue": "image dtype must be one of: int16, int32, uint8, uint16, float32",
     "output_type": "error",
     "traceback": [
      "\u001b[0;31m---------------------------------------------------------------------------\u001b[0m",
      "\u001b[0;31mValueError\u001b[0m                                Traceback (most recent call last)",
      "\u001b[0;32m/tmp/ipykernel_20082/3483521037.py\u001b[0m in \u001b[0;36m<module>\u001b[0;34m\u001b[0m\n\u001b[0;32m----> 1\u001b[0;31m \u001b[0mlist\u001b[0m\u001b[0;34m(\u001b[0m\u001b[0mresults\u001b[0m\u001b[0;34m)\u001b[0m\u001b[0;34m\u001b[0m\u001b[0;34m\u001b[0m\u001b[0m\n\u001b[0m\u001b[1;32m      2\u001b[0m \u001b[0;31m#  geoms = list(results)\u001b[0m\u001b[0;34m\u001b[0m\u001b[0;34m\u001b[0m\u001b[0;34m\u001b[0m\u001b[0m\n\u001b[1;32m      3\u001b[0m \u001b[0;31m#  # first feature\u001b[0m\u001b[0;34m\u001b[0m\u001b[0;34m\u001b[0m\u001b[0;34m\u001b[0m\u001b[0m\n\u001b[1;32m      4\u001b[0m \u001b[0;31m#  print (geoms[0])\u001b[0m\u001b[0;34m\u001b[0m\u001b[0;34m\u001b[0m\u001b[0;34m\u001b[0m\u001b[0m\n",
      "\u001b[0;32m/tmp/ipykernel_20082/1366866175.py\u001b[0m in \u001b[0;36m<genexpr>\u001b[0;34m(.0)\u001b[0m\n\u001b[1;32m      5\u001b[0m     \u001b[0;32mwith\u001b[0m \u001b[0mrasterio\u001b[0m\u001b[0;34m.\u001b[0m\u001b[0mopen\u001b[0m\u001b[0;34m(\u001b[0m\u001b[0;34m'../tif/iowa.tif'\u001b[0m\u001b[0;34m)\u001b[0m \u001b[0;32mas\u001b[0m \u001b[0msrc\u001b[0m\u001b[0;34m:\u001b[0m\u001b[0;34m\u001b[0m\u001b[0;34m\u001b[0m\u001b[0m\n\u001b[1;32m      6\u001b[0m         \u001b[0mimage\u001b[0m \u001b[0;34m=\u001b[0m \u001b[0msrc\u001b[0m\u001b[0;34m.\u001b[0m\u001b[0mread\u001b[0m\u001b[0;34m(\u001b[0m\u001b[0;36m1\u001b[0m\u001b[0;34m)\u001b[0m \u001b[0;31m# first band\u001b[0m\u001b[0;34m\u001b[0m\u001b[0;34m\u001b[0m\u001b[0m\n\u001b[0;32m----> 7\u001b[0;31m         results = (\n\u001b[0m\u001b[1;32m      8\u001b[0m         \u001b[0;34m{\u001b[0m\u001b[0;34m'properties'\u001b[0m\u001b[0;34m:\u001b[0m \u001b[0;34m{\u001b[0m\u001b[0;34m'raster_val'\u001b[0m\u001b[0;34m:\u001b[0m \u001b[0mv\u001b[0m\u001b[0;34m}\u001b[0m\u001b[0;34m,\u001b[0m \u001b[0;34m'geometry'\u001b[0m\u001b[0;34m:\u001b[0m \u001b[0ms\u001b[0m\u001b[0;34m}\u001b[0m\u001b[0;34m\u001b[0m\u001b[0;34m\u001b[0m\u001b[0m\n\u001b[1;32m      9\u001b[0m         \u001b[0;32mfor\u001b[0m \u001b[0mi\u001b[0m\u001b[0;34m,\u001b[0m \u001b[0;34m(\u001b[0m\u001b[0ms\u001b[0m\u001b[0;34m,\u001b[0m \u001b[0mv\u001b[0m\u001b[0;34m)\u001b[0m\u001b[0;34m\u001b[0m\u001b[0;34m\u001b[0m\u001b[0m\n",
      "\u001b[0;32m/opt/miniconda/lib/python3.9/site-packages/rasterio/features.py\u001b[0m in \u001b[0;36mshapes\u001b[0;34m(source, mask, connectivity, transform)\u001b[0m\n",
      "\u001b[0;32mrasterio/_features.pyx\u001b[0m in \u001b[0;36m_shapes\u001b[0;34m()\u001b[0m\n",
      "\u001b[0;31mValueError\u001b[0m: image dtype must be one of: int16, int32, uint8, uint16, float32"
     ]
    }
   ],
   "source": [
    "list(results)\n",
    "#  geoms = list(results)\n",
    "#  # first feature\n",
    "#  print (geoms[0])"
   ]
  },
  {
   "cell_type": "code",
   "execution_count": 1,
   "id": "7d7bbc5c-c3b2-4230-a938-885527930f53",
   "metadata": {},
   "outputs": [
    {
     "name": "stdout",
     "output_type": "stream",
     "text": [
      "\u001b[33mWARNING: Ignoring invalid distribution -ython-dateutil (/opt/miniconda/lib/python3.9/site-packages)\u001b[0m\n",
      "\u001b[33mWARNING: Ignoring invalid distribution -ython-dateutil (/opt/miniconda/lib/python3.9/site-packages)\u001b[0m\n",
      "Requirement already satisfied: gdal in /opt/miniconda/lib/python3.9/site-packages (3.3.1)\n",
      "\u001b[33mWARNING: Ignoring invalid distribution -ython-dateutil (/opt/miniconda/lib/python3.9/site-packages)\u001b[0m\n",
      "\u001b[33mWARNING: Ignoring invalid distribution -ython-dateutil (/opt/miniconda/lib/python3.9/site-packages)\u001b[0m\n",
      "\u001b[33mWARNING: Ignoring invalid distribution -ython-dateutil (/opt/miniconda/lib/python3.9/site-packages)\u001b[0m\n"
     ]
    }
   ],
   "source": [
    "!pip install gdal\n"
   ]
  },
  {
   "cell_type": "code",
   "execution_count": 2,
   "id": "541bf1a1-152a-4fb8-9acb-dde4eb93036b",
   "metadata": {},
   "outputs": [
    {
     "ename": "ModuleNotFoundError",
     "evalue": "No module named 'gdal'",
     "output_type": "error",
     "traceback": [
      "\u001b[0;31m---------------------------------------------------------------------------\u001b[0m",
      "\u001b[0;31mModuleNotFoundError\u001b[0m                       Traceback (most recent call last)",
      "\u001b[0;32m/tmp/ipykernel_8774/890571033.py\u001b[0m in \u001b[0;36m<module>\u001b[0;34m\u001b[0m\n\u001b[0;32m----> 1\u001b[0;31m \u001b[0;32mimport\u001b[0m \u001b[0mgdal\u001b[0m\u001b[0;34m\u001b[0m\u001b[0;34m\u001b[0m\u001b[0m\n\u001b[0m\u001b[1;32m      2\u001b[0m \u001b[0mraster\u001b[0m\u001b[0;34m=\u001b[0m\u001b[0mgdal\u001b[0m\u001b[0;34m.\u001b[0m\u001b[0mopen\u001b[0m\u001b[0;34m(\u001b[0m\u001b[0;34m'../tif/iowa.tif'\u001b[0m\u001b[0;34m)\u001b[0m\u001b[0;34m\u001b[0m\u001b[0;34m\u001b[0m\u001b[0m\n",
      "\u001b[0;31mModuleNotFoundError\u001b[0m: No module named 'gdal'"
     ]
    }
   ],
   "source": [
    "import gdal\n",
    "raster=gdal.open('../tif/iowa.tif')"
   ]
  },
  {
   "cell_type": "code",
   "execution_count": null,
   "id": "48a63acb-8ef4-4b83-8e81-12c0e6237e72",
   "metadata": {},
   "outputs": [],
   "source": []
  }
 ],
 "metadata": {
  "kernelspec": {
   "display_name": "Python [conda env:root] *",
   "language": "python",
   "name": "conda-root-py"
  },
  "language_info": {
   "codemirror_mode": {
    "name": "ipython",
    "version": 3
   },
   "file_extension": ".py",
   "mimetype": "text/x-python",
   "name": "python",
   "nbconvert_exporter": "python",
   "pygments_lexer": "ipython3",
   "version": "3.9.5"
  }
 },
 "nbformat": 4,
 "nbformat_minor": 5
}
